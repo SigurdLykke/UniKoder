{
 "cells": [
  {
   "cell_type": "code",
   "execution_count": 22,
   "id": "4903a152",
   "metadata": {},
   "outputs": [
    {
     "name": "stdout",
     "output_type": "stream",
     "text": [
      "3.60\n",
      "-0.900\n",
      "0\n",
      "0\n",
      "2.70\n"
     ]
    }
   ],
   "source": [
    "from sympy import *\n",
    "#Work = F*dist*cos(a)\n",
    "dist = 1.50  #m\n",
    "forcepush = 2.40  # Newtons\n",
    "forcefric = 0.600  #Newtons\n",
    "\n",
    "# Vinkler for kraften\n",
    "a_p = 0/360*2*pi  # i radianer\n",
    "a_f = 180/360*2*pi  # i radianer\n",
    "a_n = 90/360*2*pi  # i radianer. Da de er vinkelrette på er det altså 0 cos(90)=0\n",
    "a_g = 270/360*2*pi  # i radianer. Da de er vinkelrette på er det altså 0 cos \n",
    "\n",
    "work_push = forcepush*dist*cos(a_p)\n",
    "work_friction = forcefric*dist*cos(a_f)\n",
    "\n",
    "work_net = work_push + work_friction\n",
    "\n",
    "print(work_push.evalf(3))\n",
    "print(work_friction.evalf(3))\n",
    "print(0)\n",
    "print(0)\n",
    "print(work_net.evalf(3))\n"
   ]
  },
  {
   "cell_type": "code",
   "execution_count": null,
   "id": "7c538bf3",
   "metadata": {},
   "outputs": [],
   "source": []
  }
 ],
 "metadata": {
  "kernelspec": {
   "display_name": "Python 3 (ipykernel)",
   "language": "python",
   "name": "python3"
  },
  "language_info": {
   "codemirror_mode": {
    "name": "ipython",
    "version": 3
   },
   "file_extension": ".py",
   "mimetype": "text/x-python",
   "name": "python",
   "nbconvert_exporter": "python",
   "pygments_lexer": "ipython3",
   "version": "3.10.9"
  }
 },
 "nbformat": 4,
 "nbformat_minor": 5
}
